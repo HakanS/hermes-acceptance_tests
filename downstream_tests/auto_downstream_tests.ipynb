{
 "cells": [
  {
   "cell_type": "code",
   "execution_count": null,
   "id": "785e1c55",
   "metadata": {},
   "outputs": [],
   "source": [
    "from datetime import datetime\n",
    "from messages import Message, TransferState\n",
    "from contextlib import contextmanager"
   ]
  },
  {
   "cell_type": "code",
   "execution_count": null,
   "id": "fcb68684",
   "metadata": {},
   "outputs": [],
   "source": [
    "from connections import UpstreamConnection\n",
    "from test_log import create_log, print_and_log, TestResult"
   ]
  },
  {
   "cell_type": "code",
   "execution_count": null,
   "id": "7757b32a",
   "metadata": {},
   "outputs": [],
   "source": [
    "#set the real IP and port number of your device here\n",
    "globalHost='127.0.0.1'\n",
    "globalPort=50101"
   ]
  },
  {
   "cell_type": "code",
   "execution_count": null,
   "id": "1f6d86e9",
   "metadata": {
    "lines_to_next_cell": 1
   },
   "outputs": [],
   "source": [
    "MAXMESSAGE = 65536\n",
    "TEST_CASES = []\n",
    "test_failed = False\n",
    "log=0"
   ]
  },
  {
   "cell_type": "code",
   "execution_count": null,
   "id": "b071a10d",
   "metadata": {
    "lines_to_next_cell": 1
   },
   "outputs": [],
   "source": [
    "@contextmanager\n",
    "def create_upstream_context(host=globalHost, port = globalPort):\n",
    "    uc = UpstreamConnection(log)\n",
    "    try:\n",
    "        uc.connect(host, port)\n",
    "        yield uc\n",
    "        uc.close()\n",
    "    except:\n",
    "        uc.close()\n",
    "        raise"
   ]
  },
  {
   "cell_type": "code",
   "execution_count": null,
   "id": "5f47c195",
   "metadata": {
    "lines_to_next_cell": 1
   },
   "outputs": [],
   "source": [
    "@contextmanager\n",
    "def create_upstream_context_with_handshake(host = \"localhost\", port = 50101):\n",
    "    uc = UpstreamConnection(log)\n",
    "    try:\n",
    "        uc.connect(host, port)\n",
    "        uc.send_msg(Message.ServiceDescription(\"AcceptanceTest\", 2))\n",
    "        uc.expect_message(\"ServiceDescription\")\n",
    "        yield uc\n",
    "        uc.close()\n",
    "    except:\n",
    "        uc.close()\n",
    "        raise"
   ]
  },
  {
   "cell_type": "code",
   "execution_count": null,
   "id": "5994e3b5",
   "metadata": {
    "lines_to_next_cell": 1
   },
   "outputs": [],
   "source": [
    "def test_decorator(func):\n",
    "    def test_wrapper(mode, count):\n",
    "        global test_failed\n",
    "        if (mode==1):\n",
    "            print(f\"{count} - {func.__name__}\")\n",
    "        else:\n",
    "            timestamp = datetime.now().strftime('%Y-%m-%dT%H:%M:%S.%M')\n",
    "            print(f\"{timestamp} Executing {func.__name__}...\", end=\"\")\n",
    "            log.log_start(f\"{count} - {func.__name__}\")\n",
    "            try:\n",
    "                func()\n",
    "            except Exception as e:\n",
    "                test_failed = True\n",
    "                print(f\"FAILED with error: {str(e)}\")\n",
    "                log.log_finish(f\"{count} - {func.__name__}\", TestResult.FAIL)\n",
    "            else:\n",
    "                print(\"succeeded\")\n",
    "                log.log_finish(f\"{count} - {func.__name__}\", TestResult.PASS)\n",
    "\n",
    "    TEST_CASES.append(test_wrapper)\n",
    "        \n",
    "    return test_wrapper"
   ]
  },
  {
   "cell_type": "markdown",
   "id": "31e71b43",
   "metadata": {},
   "source": [
    "###############################################################################################\n",
    "start with test cases here"
   ]
  },
  {
   "cell_type": "code",
   "execution_count": null,
   "id": "874cd0a2",
   "metadata": {
    "lines_to_next_cell": 1
   },
   "outputs": [],
   "source": [
    "@test_decorator\n",
    "def connect_disconnect_n_times():\n",
    "    for _ in range(10):\n",
    "        with create_upstream_context():\n",
    "            pass"
   ]
  },
  {
   "cell_type": "code",
   "execution_count": null,
   "id": "1f49ff04",
   "metadata": {},
   "outputs": [],
   "source": [
    "@test_decorator\n",
    "def connect_2_times():\n",
    "    uc1 = UpstreamConnection(log)\n",
    "    try:\n",
    "        uc1.connect(globalHost, globalPort)\n",
    "    except:\n",
    "        uc1.close()\n",
    "        raise\n",
    "\n",
    "    uc2 = UpstreamConnection(log)\n",
    "    try:\n",
    "        uc2.connect(global_host, global_port)\n",
    "    except:\n",
    "        uc1.close()\n",
    "        uc2.close()\n",
    "        return\n",
    "\n",
    "    uc1.close()\n",
    "    uc2.close()\n",
    "    raise ValueError(\"second connection was accepted\")"
   ]
  },
  {
   "cell_type": "markdown",
   "id": "d26375d5",
   "metadata": {
    "lines_to_next_cell": 2
   },
   "source": [
    "\n",
    "   len1=uc1.send_msg(Message.ServiceDescription(\"AcceptanceTest1\", 2))\n",
    "   len2=uc2.send_msg(Message.ServiceDescription(\"AcceptanceTest2\", 2))\n",
    "   if ((len1>0) or (len2>0)):\n",
    "       try:\n",
    "           uc2.expect_message(\"ServiceDescription\")\n",
    "       except:\n",
    "           uc1.close()\n",
    "           uc2.close()\n",
    "           return\n",
    "       uc1.close()\n",
    "       uc2.close()\n",
    "       raise ValueError(\"second connection was accepted\")\n",
    "   else:\n",
    "       uc1.close()\n",
    "       uc2.close()"
   ]
  },
  {
   "cell_type": "code",
   "execution_count": null,
   "id": "020c761b",
   "metadata": {
    "lines_to_next_cell": 1
   },
   "outputs": [],
   "source": [
    "@test_decorator\n",
    "def connect_service_description_disconnect_n_times():\n",
    "    for _ in range(10):\n",
    "        with create_upstream_context() as ctxt:\n",
    "            ctxt.send_msg(Message.ServiceDescription(\"AcceptanceTest\", 2))"
   ]
  },
  {
   "cell_type": "code",
   "execution_count": null,
   "id": "adf2b73f",
   "metadata": {
    "lines_to_next_cell": 1
   },
   "outputs": [],
   "source": [
    "@test_decorator\n",
    "def connect_handshake_disconnect():\n",
    "    with create_upstream_context_with_handshake():\n",
    "        pass"
   ]
  },
  {
   "cell_type": "code",
   "execution_count": null,
   "id": "48af3c30",
   "metadata": {
    "lines_to_next_cell": 1
   },
   "outputs": [],
   "source": [
    "@test_decorator\n",
    "def test_maximum_message_size():\n",
    "    with create_upstream_context() as ctxt:\n",
    "        msg = Message.ServiceDescription(\"DownstreamId\", 1)\n",
    "        msg_bytes = msg.to_bytes()\n",
    "        splitat = msg_bytes.find(b\"LaneId=\")\n",
    "        dummy_attr = b'HermesAcceptanceTestDummyAttributeId=\"\" '\n",
    "        msg_bytes = msg_bytes[:splitat] + dummy_attr + msg_bytes[splitat:]\n",
    "        splitat += len(dummy_attr) - 2\n",
    "        extend_by = MAXMESSAGE - len(msg_bytes)\n",
    "        msg_bytes = msg_bytes[:splitat] + extend_by * b\"x\" + msg_bytes[splitat:]\n",
    "        ctxt.send_tag_and_bytes(msg.tag, msg_bytes)\n",
    "        ctxt.expect_message(\"ServiceDescription\")"
   ]
  },
  {
   "cell_type": "code",
   "execution_count": null,
   "id": "dc25b562",
   "metadata": {
    "lines_to_next_cell": 1
   },
   "outputs": [],
   "source": [
    "@test_decorator\n",
    "def test_multiple_messages_per_packet():\n",
    "    with create_upstream_context() as ctxt:\n",
    "        check_alive = Message.CheckAlive()\n",
    "        service_description = Message.ServiceDescription(\"DownstreamId\", 1)\n",
    "        msg_bytes = check_alive.to_bytes() + service_description.to_bytes() + check_alive.to_bytes()\n",
    "        ctxt.send_tag_and_bytes(service_description.tag, msg_bytes)\n",
    "        ctxt.expect_message(\"ServiceDescription\")"
   ]
  },
  {
   "cell_type": "code",
   "execution_count": null,
   "id": "3927fff2",
   "metadata": {
    "lines_to_next_cell": 1
   },
   "outputs": [],
   "source": [
    "@test_decorator\n",
    "def test_terminate_on_illegal_message():\n",
    "    with create_upstream_context() as ctxt:\n",
    "        msg_bytes = b\"<Hermes Timestamp='2020-04-28T10:01:20.768'><ThisIsNotAKnownMessage /></Hermes>\"\n",
    "        ctxt.send_tag_and_bytes(None, msg_bytes)\n",
    "        # other end has to close connection so check if socked is dead now, optionally a Notification can be sent before closing\n",
    "        try:\n",
    "            ctxt._socket.recv(0)\n",
    "            uc.expect_message(\"Notification\")\n",
    "            ctxt.close()\n",
    "            raise ValueError(\"illegal message erroneously accepted\")\n",
    "        except:\n",
    "            # try the same after initial handshake\n",
    "            ctxt.close()\n",
    "            with create_upstream_context() as ctxt:\n",
    "                ctxt.send_msg(Message.ServiceDescription(\"AcceptanceTest\", 2))\n",
    "                ctxt.expect_message(\"ServiceDescription\")\n",
    "\n",
    "                ctxt.send_tag_and_bytes(None, msg_bytes)\n",
    "                # other end has to close connection so check if socked is dead now, optionally a Notification can be sent before closing\n",
    "                try:\n",
    "                    ctxt._socket.recv(0)\n",
    "                    uc.expect_message(\"Notification\")\n",
    "                    ctxt.close()\n",
    "                    raise ValueError(\"illegal message erroneously accepted after handshake\")\n",
    "                except:\n",
    "                    pass"
   ]
  },
  {
   "cell_type": "code",
   "execution_count": null,
   "id": "a913cdab",
   "metadata": {},
   "outputs": [],
   "source": [
    "@test_decorator\n",
    "def test_terminate_on_msg_before_service_desc():\n",
    "    with create_upstream_context() as ctxt:\n",
    "        msg = Message.RevokeBoardAvailable()\n",
    "        ctxt.send_msg(msg)\n",
    "        # other end has to close connection so check if socked is dead now, optionally a Notification can be sent before closing\n",
    "        try:\n",
    "            ctxt._socket.recv(0)\n",
    "            uc.expect_message(\"Notification\")\n",
    "            ctxt.close()\n",
    "            raise ValueError(\"RevokeBoardAvailable erroneously accepted\")\n",
    "        except:\n",
    "            # try with the next message\n",
    "            ctxt.close()\n",
    "\n",
    "            with create_upstream_context() as ctxt:\n",
    "                msg = Message.BoardAvailable(\"TestBoard\",\"HermesAcceptanceTester\")\n",
    "                board_id = msg.data.get(\"BoardId\")\n",
    "                ctxt.send_msg(msg)\n",
    "                # other end has to close connection so check if socked is dead now, optionally a Notification can be sent before closing\n",
    "                try:\n",
    "                    ctxt._socket.recv(0)\n",
    "                    uc.expect_message(\"Notification\")\n",
    "                    ctxt.close()\n",
    "                    raise ValueError(\"BoardAvailable erroneously accepted\")\n",
    "                except:\n",
    "                    # try with the next message\n",
    "                    ctxt.close()\n",
    "\n",
    "                    with create_upstream_context() as ctxt:\n",
    "                        msg = Message.TransportFinished(TransferState.COMPLETE, board_id)\n",
    "                        ctxt.send_msg(msg)\n",
    "                        # other end has to close connection so check if socked is dead now, optionally a Notification can be sent before closing\n",
    "                        try:\n",
    "                            ctxt._socket.recv(0)\n",
    "                            uc.expect_message(\"Notification\")\n",
    "                            ctxt.close()\n",
    "                            raise ValueError(\"TransportFinished erroneously accepted\")\n",
    "                        except:\n",
    "                            # try with the next message\n",
    "                            ctxt.close()\n",
    "\n",
    "                            with create_upstream_context() as ctxt:\n",
    "                                msg = Message.BoardForecast()\n",
    "                                ctxt.send_msg(msg)\n",
    "                                # other end has to close connection so check if socked is dead now, optionally a Notification can be sent before closing\n",
    "                                try:\n",
    "                                    ctxt._socket.recv(0)\n",
    "                                    uc.expect_message(\"Notification\")\n",
    "                                    ctxt.close()\n",
    "                                    raise ValueError(\"TransportFinished erroneously accepted\")\n",
    "                                except:\n",
    "                                    # try with the next message\n",
    "                                    ctxt.close()"
   ]
  },
  {
   "cell_type": "code",
   "execution_count": null,
   "id": "a2828687",
   "metadata": {},
   "outputs": [],
   "source": [
    "@test_decorator\n",
    "def test_terminate_on_unexpected_revoke_board_available():\n",
    "    with create_upstream_context() as ctxt:\n",
    "        ctxt.send_msg(Message.ServiceDescription(\"AcceptanceTest\", 2))\n",
    "        ctxt.expect_message(\"ServiceDescription\")\n",
    "\n",
    "        msg = Message.RevokeBoardAvailable()\n",
    "        ctxt.send_msg(msg)\n",
    "        # other end has to close connection so check if socked is dead now, optionally a Notification can be sent before closing\n",
    "        try:\n",
    "            ctxt._socket.recv(0)\n",
    "            uc.expect_message(\"Notification\")\n",
    "            ctxt.close()\n",
    "            raise ValueError(\"RevokeBoardAvailable erroneously accepted after handshake\")\n",
    "        except:\n",
    "            pass"
   ]
  },
  {
   "cell_type": "code",
   "execution_count": null,
   "id": "7d859e20",
   "metadata": {
    "lines_to_next_cell": 1
   },
   "outputs": [],
   "source": [
    "@test_decorator\n",
    "def test_terminate_on_unexpected_revoke_machine_ready():\n",
    "    with create_upstream_context() as ctxt:\n",
    "        ctxt.send_msg(Message.ServiceDescription(\"AcceptanceTest\", 2))\n",
    "        ctxt.expect_message(\"ServiceDescription\")\n",
    "\n",
    "        msg = Message.RevokeMachineReady()\n",
    "        ctxt.send_msg(msg)\n",
    "        # other end has to close connection so check if socked is dead now, optionally a Notification can be sent before closing\n",
    "        try:\n",
    "            ctxt._socket.recv(0)\n",
    "            uc.expect_message(\"Notification\")\n",
    "            ctxt.close()\n",
    "            raise ValueError(\"RevokeMachineReady erroneously accepted after handshake\")\n",
    "        except:\n",
    "            pass"
   ]
  },
  {
   "cell_type": "code",
   "execution_count": null,
   "id": "1bec8043",
   "metadata": {
    "lines_to_next_cell": 1
   },
   "outputs": [],
   "source": [
    "@test_decorator\n",
    "def test_terminate_on_unexpected_transport_finished():\n",
    "    with create_upstream_context() as ctxt:\n",
    "        ctxt.send_msg(Message.ServiceDescription(\"AcceptanceTest\", 2))\n",
    "        ctxt.expect_message(\"ServiceDescription\")\n",
    "\n",
    "        msg = Message.TransportFinished(TransferState.COMPLETE, \"some_guid\")\n",
    "        ctxt.send_msg(msg)\n",
    "        # other end has to close connection so check if socked is dead now, optionally a Notification can be sent before closing\n",
    "        try:\n",
    "            ctxt._socket.recv(0)\n",
    "            uc.expect_message(\"Notification\")\n",
    "            ctxt.close()\n",
    "            raise ValueError(\"TransportFinished erroneously accepted after handshake\")\n",
    "        except:\n",
    "            pass"
   ]
  },
  {
   "cell_type": "code",
   "execution_count": null,
   "id": "123308c9",
   "metadata": {},
   "outputs": [],
   "source": [
    "@test_decorator\n",
    "def test_complete_cycle():\n",
    "    with create_upstream_context() as ctxt:\n",
    "        ctxt.send_msg(Message.ServiceDescription(\"AcceptanceTestCompleteCycle\", 2))\n",
    "        ctxt.expect_message(\"ServiceDescription\")\n",
    "\n",
    "        msg = Message.MachineReady()\n",
    "        ctxt.send_msg(msg)\n",
    "        board_available = ctxt.expect_message(\"BoardAvailable\")\n",
    "        board_id = board_available.data.get(\"BoardId\")\n",
    "\n",
    "        msg = Message.StartTransport(board_id)\n",
    "        ctxt.send_msg(msg)\n",
    "        ctxt.expect_message(\"TransportFinished\")\n",
    "\n",
    "        msg = Message.StopTransport(TransferState.COMPLETE, board_id)\n",
    "        ctxt.send_msg(msg)\n",
    "        ctxt.close();"
   ]
  },
  {
   "cell_type": "code",
   "execution_count": null,
   "id": "3f20322d",
   "metadata": {
    "lines_to_next_cell": 1
   },
   "outputs": [],
   "source": [
    "def main():\n",
    "    global log\n",
    "    with create_log(\"AutomaticDownstream\") as log:\n",
    "        working=True\n",
    "        while (working):\n",
    "            i=1\n",
    "            print(\"0 - all tests\")\n",
    "            for test_case in TEST_CASES:\n",
    "                test_case(1,i) # print testcase names only\n",
    "                i=i+1\n",
    "\n",
    "            selection=int(input())\n",
    "            if (selection==0):\n",
    "                i=0;\n",
    "                for test_case in TEST_CASES:\n",
    "                    i=i+1\n",
    "                    test_case(0,i)\n",
    "                working=False\n",
    "            else:\n",
    "                if (selection<=len(TEST_CASES)):\n",
    "                    TEST_CASES[selection-1](0,selection)\n",
    "                working=False\n",
    "\n",
    "        if test_failed == True:\n",
    "            print_and_log(\"Test run FAILED!\", log)\n",
    "            return 1\n",
    "\n",
    "    return 0"
   ]
  },
  {
   "cell_type": "code",
   "execution_count": null,
   "id": "1f38af52",
   "metadata": {
    "lines_to_next_cell": 2
   },
   "outputs": [],
   "source": [
    "if __name__ == '__main__':\n",
    "    main()"
   ]
  }
 ],
 "metadata": {
  "jupytext": {
   "cell_metadata_filter": "-all",
   "main_language": "python",
   "notebook_metadata_filter": "-all"
  }
 },
 "nbformat": 4,
 "nbformat_minor": 5
}
