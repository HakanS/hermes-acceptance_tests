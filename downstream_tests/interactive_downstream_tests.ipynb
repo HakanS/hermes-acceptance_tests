{
 "cells": [
  {
   "cell_type": "code",
   "execution_count": null,
   "id": "06cceaf9",
   "metadata": {},
   "outputs": [],
   "source": [
    "from datetime import datetime\n",
    "from messages import Message, MAXMESSAGESIZE, TransferState\n",
    "from contextlib import contextmanager"
   ]
  },
  {
   "cell_type": "code",
   "execution_count": null,
   "id": "2646a79e",
   "metadata": {},
   "outputs": [],
   "source": [
    "from connections import UpstreamConnection\n",
    "from test_log import create_log, print_and_log, TestResult"
   ]
  },
  {
   "cell_type": "code",
   "execution_count": null,
   "id": "0b50b37e",
   "metadata": {
    "lines_to_next_cell": 1
   },
   "outputs": [],
   "source": [
    "#set the real IP and port number of your device here\n",
    "globalHost='127.0.0.1'\n",
    "globalPort=50101"
   ]
  },
  {
   "cell_type": "code",
   "execution_count": null,
   "id": "7204be1a",
   "metadata": {
    "lines_to_next_cell": 1
   },
   "outputs": [],
   "source": [
    "@contextmanager\n",
    "def create_upstream_context(host=globalHost, port = globalPort):\n",
    "    uc = UpstreamConnection(TestDecorator.log)\n",
    "    try:\n",
    "        uc.connect(host, port)\n",
    "        yield uc\n",
    "        uc.close()\n",
    "    except:\n",
    "        uc.close()\n",
    "        raise"
   ]
  },
  {
   "cell_type": "code",
   "execution_count": null,
   "id": "bb5afe33",
   "metadata": {
    "lines_to_next_cell": 1
   },
   "outputs": [],
   "source": [
    "@contextmanager\n",
    "def create_upstream_context_with_handshake( host = \"localhost\", port = 50101):\n",
    "    uc = UpstreamConnection(TestDecorator.log)\n",
    "    try:\n",
    "        uc.connect(host, port)\n",
    "        uc.send_msg(Message.ServiceDescription(\"AcceptanceTest\", 2))\n",
    "        uc.expect_message(\"ServiceDescription\")\n",
    "        yield uc\n",
    "        uc.close()\n",
    "    except:\n",
    "        uc.close()\n",
    "        raise"
   ]
  },
  {
   "cell_type": "code",
   "execution_count": null,
   "id": "0e8cb02d",
   "metadata": {
    "lines_to_next_cell": 1
   },
   "outputs": [],
   "source": [
    "@contextmanager\n",
    "def create_upstream_context_with_board_available( host = \"localhost\", port = 50101):\n",
    "    uc = UpstreamConnection(TestDecorator.log)\n",
    "    try:\n",
    "        uc.connect(host, port)\n",
    "        uc.send_msg(Message.ServiceDescription(\"AcceptanceTest\", 2))\n",
    "        uc.expect_message(\"ServiceDescription\")\n",
    "        uc.expect_message(\"BoardAvailable\")\n",
    "        yield uc\n",
    "        uc.close()\n",
    "    except:\n",
    "        uc.close()\n",
    "        raise"
   ]
  },
  {
   "cell_type": "code",
   "execution_count": null,
   "id": "a2865f39",
   "metadata": {
    "lines_to_next_cell": 1
   },
   "outputs": [],
   "source": [
    "class TestDecorator:\n",
    "\n",
    "    test_cases = []\n",
    "    test_failed = False\n",
    "    log = None\n",
    "\n",
    "    def __init__(self, func):\n",
    "        def test_wrapper(mode, count):\n",
    "            if mode == 1:\n",
    "                print(f\"{count} - {func.__name__}\")\n",
    "                return\n",
    "\n",
    "            timestamp = datetime.now().strftime('%Y-%m-%dT%H:%M:%S.%M')\n",
    "            print(f\"{timestamp} Executing {func.__name__}...\", end=\"\")\n",
    "            type(self).log.log_start(func.__name__)\n",
    "            try:\n",
    "                func()\n",
    "            except Exception as e:\n",
    "                type(self).test_failed = True\n",
    "                print(f\"FAILED with error: {e}\")\n",
    "                type(self).log.log_finish(func.__name__, TestResult.FAIL)\n",
    "            else:\n",
    "                print(\"succeeded\")\n",
    "                type(self).log.log_finish(func.__name__, TestResult.PASS)\n",
    "\n",
    "        type(self).test_cases.append(test_wrapper)\n",
    "        self._func = test_wrapper\n",
    "\n",
    "    def __call__(self, *args, **kwargs):\n",
    "        return self._func(*args, **kwargs)"
   ]
  },
  {
   "cell_type": "markdown",
   "id": "6d6cf6c7",
   "metadata": {},
   "source": [
    "###############################################################################################\n",
    "start with test cases here"
   ]
  },
  {
   "cell_type": "code",
   "execution_count": null,
   "id": "31fc8768",
   "metadata": {
    "lines_to_next_cell": 1
   },
   "outputs": [],
   "source": [
    "@TestDecorator\n",
    "def connect_disconnect_n_times():\n",
    "    for _ in range(10):\n",
    "        with create_upstream_context():\n",
    "            pass"
   ]
  },
  {
   "cell_type": "code",
   "execution_count": null,
   "id": "55d780f5",
   "metadata": {
    "lines_to_next_cell": 1
   },
   "outputs": [],
   "source": [
    "@TestDecorator\n",
    "def connect_disconnect_n_times():\n",
    "    for _ in range(10):\n",
    "        with create_upstream_context():\n",
    "            pass"
   ]
  },
  {
   "cell_type": "code",
   "execution_count": null,
   "id": "19517914",
   "metadata": {
    "lines_to_next_cell": 1
   },
   "outputs": [],
   "source": [
    "@TestDecorator\n",
    "def connect_board_available_disconnect_n_times():\n",
    "    for _ in range(10):\n",
    "        with create_upstream_context_with_board_available() as ctxt:\n",
    "            ctxt.send_msg(Message.MachineReady())\n",
    "            ctxt.send_msg(Message.RevokeMachineReady())"
   ]
  },
  {
   "cell_type": "code",
   "execution_count": null,
   "id": "0cdfcf2e",
   "metadata": {
    "lines_to_next_cell": 1
   },
   "outputs": [],
   "source": [
    "@TestDecorator\n",
    "def connect_and_transfer():\n",
    "    with create_upstream_context_with_handshake() as ctxt:\n",
    "        ctxt.send_msg(Message.MachineReady())\n",
    "        board_available = ctxt.expect_message(\"BoardAvailable\")\n",
    "        board_id = board_available.data.get(\"BoardId\")\n",
    "        ctxt.send_msg(Message.StartTransport(board_id))\n",
    "        ctxt.send_msg(Message.StopTransport(TransferState.COMPLETE, board_id))\n",
    "        transport_finished = ctxt.expect_message(\"TransportFinished\")\n",
    "        assert transport_finished.data.get(\"BoardId\") == board_id, \"BoardId mismatch\""
   ]
  },
  {
   "cell_type": "code",
   "execution_count": null,
   "id": "fc4a3276",
   "metadata": {
    "lines_to_next_cell": 1
   },
   "outputs": [],
   "source": [
    "@TestDecorator\n",
    "def test_maximum_message_size():\n",
    "    with create_upstream_context() as ctxt:\n",
    "        msg = Message.ServiceDescription(\"DownstreamId\", 1)\n",
    "        msg_bytes = msg.to_bytes()\n",
    "        splitat = msg_bytes.find(b\"LaneId=\")\n",
    "        dummy_attr = b'HermesAcceptanceTestDummyAttributeId=\"\" '\n",
    "        msg_bytes = msg_bytes[:splitat] + dummy_attr + msg_bytes[splitat:]\n",
    "        splitat += len(dummy_attr) - 2\n",
    "        extend_by = MAXMESSAGESIZE - len(msg_bytes)\n",
    "        msg_bytes = msg_bytes[:splitat] + extend_by * b\"x\" + msg_bytes[splitat:]\n",
    "        ctxt.send_tag_and_bytes(msg.tag, msg_bytes)\n",
    "        ctxt.expect_message(\"ServiceDescription\")"
   ]
  },
  {
   "cell_type": "code",
   "execution_count": null,
   "id": "21a98314",
   "metadata": {
    "lines_to_next_cell": 1
   },
   "outputs": [],
   "source": [
    "@TestDecorator\n",
    "def test_multiple_messages_per_packet():\n",
    "    with create_upstream_context() as ctxt:\n",
    "        check_alive = Message.CheckAlive()\n",
    "        service_description = Message.ServiceDescription(\"DownstreamId\", 1)\n",
    "        msg_bytes = check_alive.to_bytes() + service_description.to_bytes() + check_alive.to_bytes()\n",
    "        ctxt.send_tag_and_bytes(service_description.tag, msg_bytes)\n",
    "        ctxt.expect_message(\"ServiceDescription\")"
   ]
  },
  {
   "cell_type": "code",
   "execution_count": null,
   "id": "7501dcc6",
   "metadata": {
    "lines_to_next_cell": 1
   },
   "outputs": [],
   "source": [
    "def main():\n",
    "    with create_log(\"AutomaticDownstream\") as log:\n",
    "        TestDecorator.log = log\n",
    "        working=True\n",
    "        while (working):\n",
    "            i=1\n",
    "            print(\"0 - all tests\")\n",
    "            for test_case in TestDecorator.test_cases:\n",
    "                test_case(1,i) # print testcase names only\n",
    "                i=i+1\n",
    "\n",
    "            selection=int(input())\n",
    "            if (selection==0):\n",
    "                for test_case in TestDecorator.test_cases:\n",
    "                    test_case(0,0)\n",
    "                working=False\n",
    "            else:\n",
    "                if (selection<=len(TestDecorator.test_cases)):\n",
    "                    TestDecorator.test_cases[selection-1](0,0)\n",
    "                working=False\n",
    "\n",
    "        if TestDecorator.test_failed:\n",
    "            print_and_log(\"Test run FAILED!\", log)\n",
    "            return 1\n",
    "\n",
    "    return 0"
   ]
  },
  {
   "cell_type": "code",
   "execution_count": null,
   "id": "b695edec",
   "metadata": {},
   "outputs": [],
   "source": [
    "if __name__ == '__main__':\n",
    "    main()"
   ]
  },
  {
   "cell_type": "code",
   "execution_count": null,
   "id": "f1762c05",
   "metadata": {},
   "outputs": [],
   "source": []
  }
 ],
 "metadata": {
  "jupytext": {
   "cell_metadata_filter": "-all",
   "main_language": "python",
   "notebook_metadata_filter": "-all"
  }
 },
 "nbformat": 4,
 "nbformat_minor": 5
}
