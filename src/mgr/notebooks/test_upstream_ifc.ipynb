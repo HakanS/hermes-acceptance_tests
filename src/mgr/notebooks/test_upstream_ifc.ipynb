{
 "cells": [
  {
   "attachments": {},
   "cell_type": "markdown",
   "metadata": {},
   "source": [
    "# Test of upstream IPC-Hermes-9852 horizontal connection\n",
    "\n",
    "Here you can test if your implementation is compliant with the Hermes standard. Some test cases can be executed automatically but others will require interaction with the system under test.\n",
    "\n",
    "    >>>> Board transport direction >>>>\n",
    "    ----------+          +----------\n",
    "       this   |          |  system\n",
    "       code   | -------> |  under\n",
    "              |          |  test\n",
    "    ----------+          +----------\n",
    "\n",
    "An downstream server is used by this test code to receive and send messages to the system under test. In case you are trying out this code against the Hermes TestDriver - select \"Downstream simulation\" in TestDriver.\n",
    "\n",
    "## Setup\n",
    "First task is to setup and configure the test environment\n"
   ]
  },
  {
   "cell_type": "code",
   "execution_count": 7,
   "metadata": {},
   "outputs": [],
   "source": [
    "from test_cases import test_upstream_ifc, test_upstream_ifc_interactive\n",
    "from test_cases import EnvironmentManager\n",
    "\n",
    "def my_callback(*args, **kwargs):\n",
    "    print(args[1])\n",
    "\n",
    "env = EnvironmentManager()\n",
    "env.lane_id = '1'\n",
    "env.register_callback(my_callback)\n",
    "\n",
    "# IP configuration, Test manager listening port\n",
    "env.test_manager_port = 50103\n",
    "\n",
    "# Un-comment line below if using Hermes TestDriver, this will remind about sending ServiceDescriptions during handshake\n",
    "env.use_handshake_callback = True"
   ]
  },
  {
   "attachments": {},
   "cell_type": "markdown",
   "metadata": {},
   "source": [
    "## Fully Automatic Tests\n",
    "First some tests to ensure the configuration and connection is working. No interaction needed (even if Hermes TestDriver is used)<br>\n",
    "Just execute one code cell at a time, the green checkmark show that this test is passed."
   ]
  },
  {
   "cell_type": "code",
   "execution_count": 9,
   "metadata": {},
   "outputs": [],
   "source": [
    "# Warning! This test may take a minute to complete.\n",
    "test_upstream_ifc.test_start_shutdown_n_times()"
   ]
  },
  {
   "attachments": {},
   "cell_type": "markdown",
   "metadata": {},
   "source": [
    "## More Automatic Tests\n",
    "Now tests that are automatic in normal test environments</br>\n",
    "If your are testing against the Hermes TestDriver, each test will require you to send one or more `ServiceDescription` in order to complete.\n"
   ]
  },
  {
   "cell_type": "code",
   "execution_count": 3,
   "metadata": {},
   "outputs": [
    {
     "name": "stdout",
     "output_type": "stream",
     "text": [
      "Action required: Send ServiceDescription\n",
      "Action required: Send ServiceDescription\n",
      "Action required: Send ServiceDescription\n",
      "Action required: Send ServiceDescription\n",
      "Action required: Send ServiceDescription\n",
      "Action required: Send ServiceDescription\n",
      "Action required: Send ServiceDescription\n",
      "Action required: Send ServiceDescription\n",
      "Action required: Send ServiceDescription\n",
      "Action required: Send ServiceDescription\n",
      "Done.\n"
     ]
    }
   ],
   "source": [
    "# Warning! This test may take a minute to complete.\n",
    "test_upstream_ifc.test_exchange_service_description_shutdown_n_times()"
   ]
  },
  {
   "cell_type": "code",
   "execution_count": 3,
   "metadata": {},
   "outputs": [
    {
     "name": "stdout",
     "output_type": "stream",
     "text": [
      "Action required: Send ServiceDescription\n",
      "Info: Hermes version is 1.4\n",
      "Done.\n"
     ]
    }
   ],
   "source": [
    "test_upstream_ifc.test_start_handshake_shutdown()"
   ]
  },
  {
   "cell_type": "code",
   "execution_count": 4,
   "metadata": {},
   "outputs": [
    {
     "name": "stdout",
     "output_type": "stream",
     "text": [
      "Action required: Send ServiceDescription\n",
      "Action required: Send ServiceDescription\n",
      "Action required: Send ServiceDescription\n",
      "Done.\n"
     ]
    }
   ],
   "source": [
    "test_upstream_ifc.test_terminate_on_wrong_message_in_not_available_not_ready2()"
   ]
  },
  {
   "attachments": {},
   "cell_type": "markdown",
   "metadata": {},
   "source": [
    "## Interactive Tests\n",
    "\n",
    "A callback will be used to prompt for actions.<br>\n",
    "As before you need to send a `ServiceDescription` if Hermes TestDriver is used. "
   ]
  },
  {
   "cell_type": "code",
   "execution_count": 5,
   "metadata": {},
   "outputs": [
    {
     "name": "stdout",
     "output_type": "stream",
     "text": [
      "Action required: Send ServiceDescription\n",
      "Action required: Send MachineReady\n",
      "Action required: Send StartTransport\n",
      "Action required: Send StopTransport\n",
      "Done.\n"
     ]
    }
   ],
   "source": [
    "test_upstream_ifc_interactive.test_complete_mrba_board_transfer_to_sut()"
   ]
  },
  {
   "cell_type": "code",
   "execution_count": 6,
   "metadata": {},
   "outputs": [
    {
     "name": "stdout",
     "output_type": "stream",
     "text": [
      "Action required: Send ServiceDescription\n",
      "Action required: Send MachineReady\n",
      "Action required: Send StartTransport\n",
      "Action required: Send StopTransport\n",
      "Done.\n"
     ]
    }
   ],
   "source": [
    "test_upstream_ifc_interactive.test_complete_bamr_board_transfer_to_sut()"
   ]
  }
 ],
 "metadata": {
  "kernelspec": {
   "display_name": "Python 3",
   "language": "python",
   "name": "python3"
  },
  "language_info": {
   "codemirror_mode": {
    "name": "ipython",
    "version": 3
   },
   "file_extension": ".py",
   "mimetype": "text/x-python",
   "name": "python",
   "nbconvert_exporter": "python",
   "pygments_lexer": "ipython3",
   "version": "3.10.11"
  },
  "orig_nbformat": 4
 },
 "nbformat": 4,
 "nbformat_minor": 2
}
