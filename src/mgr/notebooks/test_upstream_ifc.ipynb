{
 "cells": [
  {
   "attachments": {},
   "cell_type": "markdown",
   "metadata": {},
   "source": [
    "# Test of upstream IPC-Hermes-9852 horizontal connection\n",
    "\n",
    "Here you can test if your implementation is compliant with the Hermes standard. Some test cases can be executed automatically but others will require interaction with the system under test.\n",
    "\n",
    "    >>>> Board transport direction >>>>\n",
    "    ----------+          +----------\n",
    "       this   |          |  system\n",
    "       code   | -------> |  under\n",
    "              |          |  test\n",
    "    ----------+          +----------\n",
    "\n",
    "An downstream server is used by this test code to receive and send messages to the system under test.\n",
    "\n",
    "The test code does not know which lane interface is used, this is controlled by host/port configuration.\n",
    "\n",
    "## Setup\n",
    "First task is to setup and configure the test environment\n"
   ]
  },
  {
   "cell_type": "code",
   "execution_count": 1,
   "metadata": {},
   "outputs": [],
   "source": [
    "from test_cases import test_upstream_ifc\n",
    "from test_cases import EnvironmentManager\n",
    "\n",
    "def my_callback(*args, **kwargs):\n",
    "    print(args[1])\n",
    "\n",
    "env = EnvironmentManager()\n",
    "env.lane_id = '1'\n",
    "env.register_callback(my_callback)\n",
    "\n",
    "# Un-comment line below if using Hermes TestDriver, this will remind about sending ServiceDescriptions during handshake\n",
    "env.include_handshake = True"
   ]
  },
  {
   "attachments": {},
   "cell_type": "markdown",
   "metadata": {},
   "source": [
    "## Interactive Tests\n",
    "\n",
    "A callback will be used to prompt for actions.<br>\n",
    "As before you need to send a `ServiceDescription` if Hermes TestDriver is used. "
   ]
  },
  {
   "cell_type": "code",
   "execution_count": 2,
   "metadata": {},
   "outputs": [
    {
     "name": "stdout",
     "output_type": "stream",
     "text": [
      "Action required: Send ServiceDescription\n",
      "Action required: Send MachineReady\n",
      "Action required: Send StartTransport\n",
      "Action required: Send StopTransport\n",
      "Done.\n"
     ]
    }
   ],
   "source": [
    "test_upstream_ifc.test_complete_mrba_board_transfer_to_sut()"
   ]
  },
  {
   "cell_type": "code",
   "execution_count": 3,
   "metadata": {},
   "outputs": [
    {
     "name": "stdout",
     "output_type": "stream",
     "text": [
      "Action required: Send ServiceDescription\n",
      "Action required: Send MachineReady\n",
      "Action required: Send StartTransport\n",
      "Action required: Send StopTransport\n",
      "Done.\n"
     ]
    }
   ],
   "source": [
    "test_upstream_ifc.test_complete_bamr_board_transfer_to_sut()"
   ]
  }
 ],
 "metadata": {
  "kernelspec": {
   "display_name": "Python 3",
   "language": "python",
   "name": "python3"
  },
  "language_info": {
   "codemirror_mode": {
    "name": "ipython",
    "version": 3
   },
   "file_extension": ".py",
   "mimetype": "text/x-python",
   "name": "python",
   "nbconvert_exporter": "python",
   "pygments_lexer": "ipython3",
   "version": "3.10.11"
  },
  "orig_nbformat": 4
 },
 "nbformat": 4,
 "nbformat_minor": 2
}
