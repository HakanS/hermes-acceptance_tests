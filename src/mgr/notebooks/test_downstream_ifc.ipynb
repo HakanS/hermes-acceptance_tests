{
 "cells": [
  {
   "attachments": {},
   "cell_type": "markdown",
   "metadata": {},
   "source": [
    "# Test of downstream IPC-Hermes-9852 horizontal connection\n",
    "\n",
    "Here you can test if your implementation is compliant with the Hermes standard. Some test cases can be executed automatically but others will require interaction with the system under test.\n",
    "\n",
    "    >>>> Board transport direction >>>>\n",
    "    ----------+          +----------\n",
    "       System |          |  this\n",
    "       under  | -------- |  code\n",
    "       test   |          |\n",
    "    ----------+          +----------\n",
    "    \n",
    "An upstream connection is used by this test code to send messages to the system under test.\n",
    "\n",
    "The test code does not know which lane interface is used, this is controlled by host/port configuration.\n",
    "\n",
    "## Setup\n",
    "First task is to setup and configure the test environment\n"
   ]
  },
  {
   "cell_type": "code",
   "execution_count": 13,
   "metadata": {},
   "outputs": [],
   "source": [
    "from test_cases import test_downstream_ifc\n",
    "from test_cases import test_downstream_ifc_interactive\n",
    "from test_cases import test_downstream_ifc_states\n",
    "from test_cases import EnvironmentManager\n",
    "\n",
    "def my_callback(*args, **kwargs):\n",
    "    print(args[1])\n",
    "\n",
    "env = EnvironmentManager()\n",
    "env.lane_id = '1'\n",
    "env.register_callback(my_callback)\n",
    "\n",
    "# Un-comment line below if using Hermes TestDriver, this will remind about sending ServiceDescriptions during handshake\n",
    "env.include_handshake = True"
   ]
  },
  {
   "attachments": {},
   "cell_type": "markdown",
   "metadata": {},
   "source": [
    "## Fully Automatic Tests\n",
    "First some tests to ensure the configuration and connection is working. No interaction needed (even if Hermes TestDriver is used)<br>\n",
    "Just execute one code cell at a time, the green checkmark show that this test is passed."
   ]
  },
  {
   "cell_type": "code",
   "execution_count": 14,
   "metadata": {},
   "outputs": [],
   "source": [
    "test_downstream_ifc.test_connect_disconnect_n_times()\n"
   ]
  },
  {
   "cell_type": "code",
   "execution_count": 15,
   "metadata": {},
   "outputs": [],
   "source": [
    "test_downstream_ifc.test_connect_service_description_disconnect_n_times()"
   ]
  },
  {
   "attachments": {},
   "cell_type": "markdown",
   "metadata": {},
   "source": [
    "## More Automatic Tests\n",
    "Now tests that are automatic in normal test environments.\n",
    "If your are testing against the Hermes TestDriver, each test will require you to send `ServiceDescription` in order to complete. "
   ]
  },
  {
   "cell_type": "code",
   "execution_count": 16,
   "metadata": {},
   "outputs": [
    {
     "name": "stdout",
     "output_type": "stream",
     "text": [
      "Action required: Send ServiceDescription\n"
     ]
    }
   ],
   "source": [
    "test_downstream_ifc.test_connect_handshake_disconnect()"
   ]
  },
  {
   "attachments": {},
   "cell_type": "markdown",
   "metadata": {},
   "source": [
    "**Note:** Test of maximum message size can be a little slow (10-30s), but be patient.<br>\n",
    "Remember to finish with `ServiceDescription` if using the Hermes TestDriver"
   ]
  },
  {
   "cell_type": "code",
   "execution_count": 5,
   "metadata": {},
   "outputs": [
    {
     "name": "stdout",
     "output_type": "stream",
     "text": [
      "Sending 65536 bytes\n",
      "Action required: Send ServiceDescription\n"
     ]
    }
   ],
   "source": [
    "from ipc_hermes.messages import MAX_MESSAGE_SIZE\n",
    "print(f\"Sending {MAX_MESSAGE_SIZE} bytes\")\n",
    "test_downstream_ifc.test_maximum_message_size()\n"
   ]
  },
  {
   "cell_type": "code",
   "execution_count": 6,
   "metadata": {},
   "outputs": [
    {
     "name": "stdout",
     "output_type": "stream",
     "text": [
      "Action required: Send ServiceDescription\n"
     ]
    }
   ],
   "source": [
    "test_downstream_ifc.test_multiple_messages_per_packet()\n"
   ]
  },
  {
   "cell_type": "code",
   "execution_count": 8,
   "metadata": {},
   "outputs": [],
   "source": [
    "#test_downstream_ifc.test_terminate_on_illegal_message()\n"
   ]
  },
  {
   "cell_type": "code",
   "execution_count": 9,
   "metadata": {},
   "outputs": [
    {
     "name": "stdout",
     "output_type": "stream",
     "text": [
      "Action required: Send ServiceDescription\n",
      "Action required: Send Notification\n"
     ]
    }
   ],
   "source": [
    "test_downstream_ifc_states.test_terminate_on_unexpected_revoke_board_available()\n"
   ]
  },
  {
   "cell_type": "code",
   "execution_count": 10,
   "metadata": {},
   "outputs": [
    {
     "name": "stdout",
     "output_type": "stream",
     "text": [
      "Action required: Send ServiceDescription\n",
      "Action required: Send Notification\n"
     ]
    }
   ],
   "source": [
    "test_downstream_ifc_states.test_terminate_on_unexpected_revoke_machine_ready()\n"
   ]
  },
  {
   "cell_type": "code",
   "execution_count": 11,
   "metadata": {},
   "outputs": [
    {
     "name": "stdout",
     "output_type": "stream",
     "text": [
      "Action required: Send ServiceDescription\n",
      "Action required: Send Notification\n"
     ]
    }
   ],
   "source": [
    "test_downstream_ifc_states.test_terminate_on_unexpected_transport_finished()\n"
   ]
  },
  {
   "attachments": {},
   "cell_type": "markdown",
   "metadata": {},
   "source": [
    "## Interactive Tests\n",
    "\n",
    "A callback will be used to prompt for actions.<br>\n",
    "As before you need to send a `ServiceDescription` if Hermes TestDriver is used. "
   ]
  },
  {
   "cell_type": "code",
   "execution_count": 12,
   "metadata": {},
   "outputs": [
    {
     "name": "stdout",
     "output_type": "stream",
     "text": [
      "Action required: Send ServiceDescription\n",
      "Action required: Send BoardAvailable\n",
      "Action required: Send TransportFinished\n"
     ]
    }
   ],
   "source": [
    "test_downstream_ifc_interactive.test_complete_board_transfer_from_sut()\n"
   ]
  }
 ],
 "metadata": {
  "kernelspec": {
   "display_name": "Python 3",
   "language": "python",
   "name": "python3"
  },
  "language_info": {
   "codemirror_mode": {
    "name": "ipython",
    "version": 3
   },
   "file_extension": ".py",
   "mimetype": "text/x-python",
   "name": "python",
   "nbconvert_exporter": "python",
   "pygments_lexer": "ipython3",
   "version": "3.10.11"
  },
  "orig_nbformat": 4
 },
 "nbformat": 4,
 "nbformat_minor": 2
}
