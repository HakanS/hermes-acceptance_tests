{
 "cells": [
  {
   "attachments": {},
   "cell_type": "markdown",
   "metadata": {},
   "source": [
    "# Test of downstream IPC-Hermes-9852 horizontal connection\n",
    "\n",
    "Here you can test if your implementation is compliant with the Hermes standard. Some test cases can be executed automatically but others will require interaction with the system under test.\n",
    "\n",
    "    >>>> Board transport direction >>>>\n",
    "    ----------+          +----------\n",
    "       System |          |  this\n",
    "       under  | -------> |  code\n",
    "       test   |          |\n",
    "    ----------+          +----------\n",
    "    \n",
    "An upstream connection is used by this test code to connect as a client to a Hermes server in the system under test. In case you are trying out this code against the Hermes TestDriver - select \"Upstream simulation\" in TestDriver.\n",
    "\n",
    "## Setup\n",
    "First task is to setup and configure the test environment\n"
   ]
  },
  {
   "cell_type": "code",
   "execution_count": 9,
   "metadata": {},
   "outputs": [],
   "source": [
    "from callback_tags import CbEvt\n",
    "from test_cases import test_downstream_ifc\n",
    "from test_cases import test_downstream_ifc_interactive\n",
    "from test_cases import EnvironmentManager\n",
    "\n",
    "def my_callback(text: str, from_func: str, evt: CbEvt, **kwargs):\n",
    "    if text is not None and evt is not CbEvt.WARNING:\n",
    "        print(text)\n",
    "\n",
    "env = EnvironmentManager()\n",
    "env.lane_id = '1'\n",
    "env.register_callback(my_callback)\n",
    "\n",
    "# IP configuration, System under test\n",
    "env.system_under_test_host = 'localhost'\n",
    "env.system_under_test_port = 50101\n",
    "\n",
    "# Un-comment line below if using Hermes TestDriver, this will remind about sending ServiceDescriptions during handshake\n",
    "env.use_handshake_callback = True"
   ]
  },
  {
   "attachments": {},
   "cell_type": "markdown",
   "metadata": {},
   "source": [
    "## Fully Automatic Tests\n",
    "First some tests to ensure the configuration and connection is working. No interaction needed (even if Hermes TestDriver is used)<br>\n",
    "Just execute one code cell at a time, the green checkmark show that this test is passed."
   ]
  },
  {
   "cell_type": "code",
   "execution_count": 2,
   "metadata": {},
   "outputs": [],
   "source": [
    "test_downstream_ifc.test_connect_disconnect_n_times()\n"
   ]
  },
  {
   "cell_type": "code",
   "execution_count": 3,
   "metadata": {},
   "outputs": [],
   "source": [
    "test_downstream_ifc.test_connect_service_description_disconnect_n_times()"
   ]
  },
  {
   "cell_type": "code",
   "execution_count": 10,
   "metadata": {},
   "outputs": [
    {
     "name": "stderr",
     "output_type": "stream",
     "text": [
      "Notification was sent according to standard, but its recommended to use Severity 2:ERROR, recieved 3\n"
     ]
    },
    {
     "name": "stdout",
     "output_type": "stream",
     "text": [
      "Done.\n"
     ]
    }
   ],
   "source": [
    "test_downstream_ifc.test_connect_2_times()"
   ]
  },
  {
   "attachments": {},
   "cell_type": "markdown",
   "metadata": {},
   "source": [
    "## More Automatic Tests\n",
    "Now tests that are automatic in normal test environments</br>\n",
    "If your are testing against the Hermes TestDriver, each test will require you to send one or more `ServiceDescription` in order to complete. "
   ]
  },
  {
   "cell_type": "code",
   "execution_count": 14,
   "metadata": {},
   "outputs": [
    {
     "name": "stdout",
     "output_type": "stream",
     "text": [
      "Action required: Send ServiceDescription\n",
      "System under test uses Hermes version: 1.4\n",
      "Done.\n"
     ]
    }
   ],
   "source": [
    "test_downstream_ifc.test_connect_handshake_disconnect()"
   ]
  },
  {
   "cell_type": "code",
   "execution_count": 11,
   "metadata": {},
   "outputs": [
    {
     "name": "stdout",
     "output_type": "stream",
     "text": [
      "Action required: Send ServiceDescription\n",
      "Done.\n"
     ]
    }
   ],
   "source": [
    "test_downstream_ifc.test_unknown_attribute()"
   ]
  },
  {
   "attachments": {},
   "cell_type": "markdown",
   "metadata": {},
   "source": [
    "**Note:** Test of maximum message size can be a little slow (several seconds), but be patient.<br>\n",
    "Remember to finish with `ServiceDescription` if using the Hermes TestDriver"
   ]
  },
  {
   "cell_type": "code",
   "execution_count": 7,
   "metadata": {},
   "outputs": [
    {
     "name": "stdout",
     "output_type": "stream",
     "text": [
      "Sending 65536 bytes\n",
      "Action required: Send ServiceDescription\n",
      "Done.\n"
     ]
    }
   ],
   "source": [
    "from ipc_hermes.messages import MAX_MESSAGE_SIZE\n",
    "print(f\"Sending {MAX_MESSAGE_SIZE} bytes\")\n",
    "test_downstream_ifc.test_maximum_message_size()\n"
   ]
  },
  {
   "cell_type": "code",
   "execution_count": 8,
   "metadata": {},
   "outputs": [
    {
     "name": "stdout",
     "output_type": "stream",
     "text": [
      "Action required: Send ServiceDescription\n",
      "Done.\n"
     ]
    }
   ],
   "source": [
    "test_downstream_ifc.test_multiple_messages_per_packet()\n"
   ]
  },
  {
   "cell_type": "code",
   "execution_count": 9,
   "metadata": {},
   "outputs": [
    {
     "name": "stdout",
     "output_type": "stream",
     "text": [
      "Action required: Send ServiceDescription\n",
      "Action required: Send ServiceDescription\n",
      "Action required: Send ServiceDescription\n",
      "Action required: Send ServiceDescription\n",
      "Done.\n"
     ]
    }
   ],
   "source": [
    "test_downstream_ifc.test_terminate_on_wrong_message_in_not_available_not_ready()\n"
   ]
  },
  {
   "attachments": {},
   "cell_type": "markdown",
   "metadata": {},
   "source": [
    "## Interactive Tests\n",
    "\n",
    "The callback will be used to prompt for actions.\n",
    "\n",
    "###  Complete board transfer\n",
    "Test a complete board transfer from system under test to the test client."
   ]
  },
  {
   "cell_type": "code",
   "execution_count": 10,
   "metadata": {},
   "outputs": [
    {
     "name": "stdout",
     "output_type": "stream",
     "text": [
      "Action required: Send ServiceDescription\n",
      "Action required: Send BoardAvailable\n",
      "Action required: Send TransportFinished\n",
      "Done.\n"
     ]
    }
   ],
   "source": [
    "test_downstream_ifc_interactive.test_complete_board_transfer_from_sut()\n"
   ]
  },
  {
   "attachments": {},
   "cell_type": "markdown",
   "metadata": {},
   "source": [
    "Test complete board transfer, when unknown message is sent during the transport sequence. This message should be ignored and transport completed."
   ]
  },
  {
   "cell_type": "code",
   "execution_count": 11,
   "metadata": {},
   "outputs": [
    {
     "name": "stdout",
     "output_type": "stream",
     "text": [
      "Action required: Send ServiceDescription\n",
      "Action required: Send BoardAvailable\n",
      "Action required: Send TransportFinished\n",
      "Done.\n"
     ]
    }
   ],
   "source": [
    "test_downstream_ifc_interactive.test_complete_board_transfer_with_unknown_msg()"
   ]
  }
 ],
 "metadata": {
  "kernelspec": {
   "display_name": "Python 3",
   "language": "python",
   "name": "python3"
  },
  "language_info": {
   "codemirror_mode": {
    "name": "ipython",
    "version": 3
   },
   "file_extension": ".py",
   "mimetype": "text/x-python",
   "name": "python",
   "nbconvert_exporter": "python",
   "pygments_lexer": "ipython3",
   "version": "3.10.11"
  },
  "orig_nbformat": 4
 },
 "nbformat": 4,
 "nbformat_minor": 2
}
